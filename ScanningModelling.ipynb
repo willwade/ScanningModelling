{
  "nbformat": 4,
  "nbformat_minor": 0,
  "metadata": {
    "colab": {
      "provenance": [],
      "authorship_tag": "ABX9TyPbgq++DhAHkdWJ2CtfYrrp",
      "include_colab_link": true
    },
    "kernelspec": {
      "name": "python3",
      "display_name": "Python 3"
    },
    "language_info": {
      "name": "python"
    }
  },
  "cells": [
    {
      "cell_type": "markdown",
      "metadata": {
        "id": "view-in-github",
        "colab_type": "text"
      },
      "source": [
        "<a href=\"https://colab.research.google.com/github/willwade/ScanningModelling/blob/main/ScanningModelling.ipynb\" target=\"_parent\"><img src=\"https://colab.research.google.com/assets/colab-badge.svg\" alt=\"Open In Colab\"/></a>"
      ]
    },
    {
      "cell_type": "code",
      "source": [
        "!git clone https://github.com/willwade/ScanningModelling"
      ],
      "metadata": {
        "id": "7mCflLQNlQgB",
        "outputId": "1962e1b8-492d-45be-d77f-5043fb22ad52",
        "colab": {
          "base_uri": "https://localhost:8080/"
        }
      },
      "execution_count": 2,
      "outputs": [
        {
          "output_type": "stream",
          "name": "stdout",
          "text": [
            "Cloning into 'ScanningModelling'...\n",
            "remote: Enumerating objects: 16, done.\u001b[K\n",
            "remote: Counting objects: 100% (16/16), done.\u001b[K\n",
            "remote: Compressing objects: 100% (14/14), done.\u001b[K\n",
            "remote: Total 16 (delta 4), reused 11 (delta 2), pack-reused 0 (from 0)\u001b[K\n",
            "Receiving objects: 100% (16/16), 22.35 KiB | 11.17 MiB/s, done.\n",
            "Resolving deltas: 100% (4/4), done.\n"
          ]
        }
      ]
    },
    {
      "cell_type": "code",
      "source": [
        "%cd ScanningModelling"
      ],
      "metadata": {
        "id": "dUEpHHotlqfu",
        "outputId": "8658c236-09bc-4296-a815-36530b7dc299",
        "colab": {
          "base_uri": "https://localhost:8080/"
        }
      },
      "execution_count": 6,
      "outputs": [
        {
          "output_type": "stream",
          "name": "stdout",
          "text": [
            "/content/ScanningModelling\n"
          ]
        }
      ]
    },
    {
      "cell_type": "code",
      "source": [
        "# Import necessary methods and global variables from the library\n",
        "from scanning_library import (\n",
        "    create_abc_grid, create_frequency_grid, create_qwerty_grid, simulate_utterances, simulate_classic_aac_prediction, print_grid\n",
        ")\n",
        "import metrics\n",
        "\n",
        "# Step 1: Define letter frequencies\n",
        "letter_frequencies = {\n",
        "    'E': 12.49, 'T': 9.28, 'A': 8.04, 'O': 7.64, 'I': 7.57,\n",
        "    'N': 7.23, 'S': 6.51, 'R': 6.28, 'H': 5.05, 'L': 4.07,\n",
        "    'D': 3.82, 'C': 3.34, 'U': 2.73, 'M': 2.51, 'F': 2.40,\n",
        "    'P': 2.14, 'G': 1.87, 'W': 1.68, 'Y': 1.66, 'B': 1.48,\n",
        "    'V': 1.05, 'K': 0.54, 'X': 0.23, 'J': 0.16, 'Q': 0.12, 'Z': 0.09, '_': 15.00\n",
        "}\n",
        "\n",
        "# Step 2: Create grids\n",
        "rows, cols = 5, 6\n",
        "abc_grid = create_abc_grid(rows, cols)\n",
        "rows, cols = 6, 6\n",
        "frequency_grid = create_frequency_grid(rows, cols, letter_frequencies)\n",
        "rows, cols = 4,10\n",
        "qwerty_grid = create_qwerty_grid(rows, cols)\n",
        "\n",
        "# Step 3: Display grids\n",
        "print(\"### ABC Layout Grid\\n\")\n",
        "print_grid(abc_grid)\n",
        "\n",
        "print(\"\\n### Frequency-Based Layout Grid (Row-Major Order)\\n\")\n",
        "print_grid(frequency_grid)\n",
        "\n",
        "print(\"\\n### QWERTY Layout Grid\\n\")\n",
        "print_grid(qwerty_grid)\n",
        "\n",
        "# Step 4: Define utterances\n",
        "utterances = [\"HELLO\", \"YES\", \"NO\", \"THANK_YOU\", \"I_NEED_HELP\"]\n",
        "\n",
        "# Step 5: Simulate scanning\n",
        "time_linear_abc = simulate_utterances(abc_grid, utterances, technique=\"Linear\")\n",
        "time_linear_frequency = simulate_utterances(frequency_grid, utterances, technique=\"Linear\")\n",
        "time_row_column_abc = simulate_utterances(abc_grid, utterances, technique=\"Row-Column\")\n",
        "time_row_column_frequency = simulate_utterances(frequency_grid, utterances, technique=\"Row-Column\")\n",
        "\n",
        "# Simulate classic AAC predictions\n",
        "time_classic_aac = sum(\n",
        "    simulate_classic_aac_prediction(\n",
        "        abc_grid,  # Use the ABC grid as the base\n",
        "        char,      # Target character\n",
        "        prev_chars  # Previous context for predictions\n",
        "    )\n",
        "    for utterance in utterances for char, prev_chars in zip(utterance, [utterance[:i] for i in range(len(utterance))])\n",
        ")\n",
        "\n",
        "time_long_hold = simulate_utterances(frequency_grid, utterances, prediction=\"Long-Hold\", hold_time=1.0)\n",
        "time_api_prediction = simulate_utterances(frequency_grid, utterances, prediction=\"API\", step_time=0.5)\n",
        "\n",
        "# Step 6: Print results\n",
        "print(\"\\n## Simulation Results:\\n\")\n",
        "print(f\"Linear Scanning (ABC Layout): {time_linear_abc:.2f} seconds\")\n",
        "print(f\"Linear Scanning (Frequency Layout): {time_linear_frequency:.2f} seconds\")\n",
        "print(f\"Classic AAC with Prediction cells Scanning Time: {time_classic_aac:.2f} seconds\")\n",
        "print(f\"Row-Column Scanning (ABC Layout): {time_row_column_abc:.2f} seconds\")\n",
        "print(f\"Row-Column Scanning (Frequency Layout): {time_row_column_frequency:.2f} seconds\")\n",
        "print(f\"Long-Hold Scanning: {time_long_hold:.2f} seconds\")\n",
        "print(f\"Prediction API Scanning Time: {time_api_prediction:.2f} seconds\")\n",
        "\n",
        "\n",
        "# Access the global variables from the library and display prediction accuracy\n",
        "if metrics.total_predictions > 0:\n",
        "    accuracy = (metrics.correct_predictions / metrics.total_predictions) * 100\n",
        "    print(f\"Prediction Accuracy: {metrics.correct_predictions}/{metrics.total_predictions} ({accuracy:.2f}%)\")\n",
        "else:\n",
        "    print(\"No predictions were made.\")"
      ],
      "metadata": {
        "id": "KTr0GaWSkwTo",
        "outputId": "fdb8ed41-537e-4a2b-e128-43b034dd67a5",
        "colab": {
          "base_uri": "https://localhost:8080/"
        }
      },
      "execution_count": 7,
      "outputs": [
        {
          "output_type": "stream",
          "name": "stdout",
          "text": [
            "### ABC Layout Grid\n",
            "\n",
            "A | B | C | D | E | F\n",
            "G | H | I | J | K | L\n",
            "M | N | O | P | Q | R\n",
            "S | T | U | V | W | X\n",
            "Y | Z | _ |   | ? | .\n",
            "\n",
            "### Frequency-Based Layout Grid (Row-Major Order)\n",
            "\n",
            "_ | E | T | A | O | I\n",
            "N | S | R | H | L | D\n",
            "C | U | M | F | P | G\n",
            "W | Y | B | V | K | X\n",
            "J | Q | Z |   | ? | .\n",
            ", | ! |   |   |   |  \n",
            "\n",
            "### QWERTY Layout Grid\n",
            "\n",
            "Q | W | E | R | T | Y | U | I | O | P\n",
            "A | S | D | F | G | H | J | K | L | Z\n",
            "X | C | V | B | N | M |   |   | ? | .\n",
            ", | ! |   |   |   |   |   |   |   |  \n",
            "\n",
            "## Simulation Results:\n",
            "\n",
            "Linear Scanning (ABC Layout): 202.00 seconds\n",
            "Linear Scanning (Frequency Layout): 119.50 seconds\n",
            "Classic AAC with Prediction cells Scanning Time: 101.00 seconds\n",
            "Row-Column Scanning (ABC Layout): 74.50 seconds\n",
            "Row-Column Scanning (Frequency Layout): 59.50 seconds\n",
            "Long-Hold Scanning: 59.75 seconds\n",
            "Prediction API Scanning Time: 48.00 seconds\n",
            "Prediction Accuracy: 23/30 (76.67%)\n"
          ]
        }
      ]
    }
  ]
}